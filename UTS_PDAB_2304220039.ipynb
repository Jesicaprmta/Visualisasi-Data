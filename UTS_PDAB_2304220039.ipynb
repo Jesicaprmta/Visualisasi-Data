{
  "nbformat": 4,
  "nbformat_minor": 0,
  "metadata": {
    "colab": {
      "provenance": [],
      "authorship_tag": "ABX9TyMk4KrT+HkNGyoTeHIHxaPT",
      "include_colab_link": true
    },
    "kernelspec": {
      "name": "python3",
      "display_name": "Python 3"
    },
    "language_info": {
      "name": "python"
    }
  },
  "cells": [
    {
      "cell_type": "markdown",
      "metadata": {
        "id": "view-in-github",
        "colab_type": "text"
      },
      "source": [
        "<a href=\"https://colab.research.google.com/github/Jesicaprmta/Visualisasi-Data/blob/main/UTS_PDAB_2304220039.ipynb\" target=\"_parent\"><img src=\"https://colab.research.google.com/assets/colab-badge.svg\" alt=\"Open In Colab\"/></a>"
      ]
    },
    {
      "cell_type": "markdown",
      "source": [
        "# 1."
      ],
      "metadata": {
        "id": "nMFd7Qlac6n2"
      }
    },
    {
      "cell_type": "markdown",
      "source": [
        "## 1a.\n"
      ],
      "metadata": {
        "id": "GUow0ONOdA2S"
      }
    },
    {
      "cell_type": "code",
      "execution_count": null,
      "metadata": {
        "colab": {
          "base_uri": "https://localhost:8080/"
        },
        "id": "DatTNPxvcHYp",
        "outputId": "71d2e9a9-e27e-41be-eb26-731c141027dd"
      },
      "outputs": [
        {
          "output_type": "stream",
          "name": "stdout",
          "text": [
            "<class 'pandas.core.frame.DataFrame'>\n",
            "RangeIndex: 891 entries, 0 to 890\n",
            "Data columns (total 12 columns):\n",
            " #   Column       Non-Null Count  Dtype  \n",
            "---  ------       --------------  -----  \n",
            " 0   PassengerId  891 non-null    int64  \n",
            " 1   Survived     891 non-null    int64  \n",
            " 2   Pclass       891 non-null    int64  \n",
            " 3   Name         891 non-null    object \n",
            " 4   Sex          891 non-null    object \n",
            " 5   Age          714 non-null    float64\n",
            " 6   SibSp        891 non-null    int64  \n",
            " 7   Parch        891 non-null    int64  \n",
            " 8   Ticket       891 non-null    object \n",
            " 9   Fare         891 non-null    float64\n",
            " 10  Cabin        204 non-null    object \n",
            " 11  Embarked     889 non-null    object \n",
            "dtypes: float64(2), int64(5), object(5)\n",
            "memory usage: 83.7+ KB\n"
          ]
        }
      ],
      "source": [
        "import pandas as pd\n",
        "import matplotlib.pyplot as plt\n",
        "import seaborn as sns\n",
        "\n",
        "# Load dataset\n",
        "df = pd.read_csv(\"/content/Titanic-Dataset.csv\")  # Pastikan file ada di direktori kerja\n",
        "\n",
        "# Tampilkan informasi awal\n",
        "df.info()\n"
      ]
    },
    {
      "cell_type": "code",
      "source": [
        "total_penumpang = len(df)\n",
        "print(\"a. Jumlah total penumpang:\", total_penumpang)"
      ],
      "metadata": {
        "colab": {
          "base_uri": "https://localhost:8080/"
        },
        "id": "Nb1M_ZKQdtf7",
        "outputId": "fe02e1f2-a7ad-4852-d964-0c6fe36cb350"
      },
      "execution_count": null,
      "outputs": [
        {
          "output_type": "stream",
          "name": "stdout",
          "text": [
            "a. Jumlah total penumpang: 891\n"
          ]
        }
      ]
    },
    {
      "cell_type": "markdown",
      "source": [
        "## 1b."
      ],
      "metadata": {
        "id": "KmTv9dAmd1OR"
      }
    },
    {
      "cell_type": "code",
      "source": [
        "survival_counts = df['Survived'].value_counts().rename(index={0: 'Tidak Selamat', 1: 'Selamat'})\n",
        "print(\"\\nb. Jumlah penumpang yang selamat dan tidak selamat:\\n\", survival_counts)\n",
        "\n",
        "# Visualisasi\n",
        "plt.figure(figsize=(6,4))\n",
        "sns.barplot(x=survival_counts.index, y=survival_counts.values)\n",
        "plt.title(\"Jumlah Penumpang Selamat vs Tidak Selamat\")\n",
        "plt.ylabel(\"Jumlah\")\n",
        "plt.show()"
      ],
      "metadata": {
        "colab": {
          "base_uri": "https://localhost:8080/",
          "height": 514
        },
        "id": "GM1EhNnxd4co",
        "outputId": "c2d676f4-964d-4158-a4eb-f9eca843cc19"
      },
      "execution_count": null,
      "outputs": [
        {
          "output_type": "stream",
          "name": "stdout",
          "text": [
            "\n",
            "b. Jumlah penumpang yang selamat dan tidak selamat:\n",
            " Survived\n",
            "Tidak Selamat    549\n",
            "Selamat          342\n",
            "Name: count, dtype: int64\n"
          ]
        },
        {
          "output_type": "display_data",
          "data": {
            "text/plain": [
              "<Figure size 600x400 with 1 Axes>"
            ],
            "image/png": "[encoded data removed]"
          },
          "metadata": {}
        }
      ]
    },
    {
      "cell_type": "markdown",
      "source": [
        "## 1c."
      ],
      "metadata": {
        "id": "EZ1Q7dsveKdE"
      }
    },
    {
      "cell_type": "code",
      "source": [
        "rata_rata_umur = df['Age'].mean()\n",
        "termuda = df[df['Age'] == df['Age'].min()][['Name', 'Age']]\n",
        "tertua = df[df['Age'] == df['Age'].max()][['Name', 'Age']]\n",
        "\n",
        "print(\"\\nc. Rata-rata umur penumpang:\", round(rata_rata_umur, 2))\n",
        "print(\"   Penumpang termuda:\\n\", termuda)\n",
        "print(\"   Penumpang tertua:\\n\", tertua)"
      ],
      "metadata": {
        "colab": {
          "base_uri": "https://localhost:8080/"
        },
        "id": "EDeldO-kd-Er",
        "outputId": "ee28de3a-b0e3-44e4-fbb6-0d08137e9202"
      },
      "execution_count": null,
      "outputs": [
        {
          "output_type": "stream",
          "name": "stdout",
          "text": [
            "\n",
            "c. Rata-rata umur penumpang: 29.7\n",
            "   Penumpang termuda:\n",
            "                                 Name   Age\n",
            "803  Thomas, Master. Assad Alexander  0.42\n",
            "   Penumpang tertua:\n",
            "                                      Name   Age\n",
            "630  Barkworth, Mr. Algernon Henry Wilson  80.0\n"
          ]
        }
      ]
    },
    {
      "cell_type": "markdown",
      "source": [
        "## 1d."
      ],
      "metadata": {
        "id": "VN4wMe-Oewn0"
      }
    },
    {
      "cell_type": "code",
      "source": [
        "jumlah_gender = df['Sex'].value_counts()\n",
        "print(\"\\nd. Jumlah penumpang berdasarkan jenis kelamin:\\n\", jumlah_gender)\n",
        "\n",
        "# Visualisasi\n",
        "plt.figure(figsize=(6,4))\n",
        "sns.barplot(x=jumlah_gender.index, y=jumlah_gender.values)\n",
        "plt.title(\"Jumlah Penumpang Berdasarkan Jenis Kelamin\")\n",
        "plt.ylabel(\"Jumlah\")\n",
        "plt.show()"
      ],
      "metadata": {
        "colab": {
          "base_uri": "https://localhost:8080/",
          "height": 514
        },
        "id": "jUQxh_HNewTq",
        "outputId": "91c34c35-6d12-4e94-8fe2-071957a36dc0"
      },
      "execution_count": null,
      "outputs": [
        {
          "output_type": "stream",
          "name": "stdout",
          "text": [
            "\n",
            "d. Jumlah penumpang berdasarkan jenis kelamin:\n",
            " Sex\n",
            "male      577\n",
            "female    314\n",
            "Name: count, dtype: int64\n"
          ]
        },
        {
          "output_type": "display_data",
          "data": {
            "text/plain": [
              "<Figure size 600x400 with 1 Axes>"
            ],
            "image/png": "[encoded data removed]"
          },
          "metadata": {}
        }
      ]
    },
    {
      "cell_type": "markdown",
      "source": [
        "## 1e."
      ],
      "metadata": {
        "id": "TxwJ7JTmfQxu"
      }
    },
    {
      "cell_type": "code",
      "source": [
        "jumlah_kelas = df['Pclass'].value_counts().sort_index()\n",
        "persentase_kelas_1 = (jumlah_kelas[1] / total_penumpang) * 100\n",
        "\n",
        "print(\"\\ne. Jumlah penumpang berdasarkan kelas:\\n\", jumlah_kelas)\n",
        "print(\"   Persentase penumpang di kelas 1: {:.2f}%\".format(persentase_kelas_1))\n",
        "\n",
        "# Visualisasi\n",
        "plt.figure(figsize=(6,4))\n",
        "sns.barplot(x=jumlah_kelas.index.astype(str), y=jumlah_kelas.values)\n",
        "plt.title(\"Jumlah Penumpang Berdasarkan Kelas\")\n",
        "plt.xlabel(\"Kelas\")\n",
        "plt.ylabel(\"Jumlah\")\n",
        "plt.show()"
      ],
      "metadata": {
        "colab": {
          "base_uri": "https://localhost:8080/",
          "height": 549
        },
        "id": "MWbyYpepfWHr",
        "outputId": "9e59166a-34c1-48c7-d0b8-def03c82a23a"
      },
      "execution_count": null,
      "outputs": [
        {
          "output_type": "stream",
          "name": "stdout",
          "text": [
            "\n",
            "e. Jumlah penumpang berdasarkan kelas:\n",
            " Pclass\n",
            "1    216\n",
            "2    184\n",
            "3    491\n",
            "Name: count, dtype: int64\n",
            "   Persentase penumpang di kelas 1: 24.24%\n"
          ]
        },
        {
          "output_type": "display_data",
          "data": {
            "text/plain": [
              "<Figure size 600x400 with 1 Axes>"
            ],
            "image/png": "[encoded data removed]"
          },
          "metadata": {}
        }
      ]
    },
    {
      "cell_type": "markdown",
      "source": [
        "# 2."
      ],
      "metadata": {
        "id": "fcNkhDfKfvwO"
      }
    },
    {
      "cell_type": "markdown",
      "source": [
        "## 2a."
      ],
      "metadata": {
        "id": "W5Xvz05If2sw"
      }
    },
    {
      "cell_type": "code",
      "source": [
        "# Cek missing value\n",
        "missing_values = df.isnull().sum()\n",
        "print(\"a. Jumlah missing value per kolom:\\n\", missing_values)"
      ],
      "metadata": {
        "colab": {
          "base_uri": "https://localhost:8080/"
        },
        "id": "ODIxzs9Mf5m7",
        "outputId": "aaa3086e-c7e4-4589-f584-0f8fd525f567"
      },
      "execution_count": null,
      "outputs": [
        {
          "output_type": "stream",
          "name": "stdout",
          "text": [
            "a. Jumlah missing value per kolom:\n",
            " PassengerId      0\n",
            "Survived         0\n",
            "Pclass           0\n",
            "Name             0\n",
            "Sex              0\n",
            "Age            177\n",
            "SibSp            0\n",
            "Parch            0\n",
            "Ticket           0\n",
            "Fare             0\n",
            "Cabin          687\n",
            "Embarked         2\n",
            "dtype: int64\n"
          ]
        }
      ]
    },
    {
      "cell_type": "markdown",
      "source": [
        "Ya, terdapat missing value pada data Titanic. Kolom Age memiliki 177 data yang hilang, Cabin memiliki 687 missing value, dan Embarked sebanyak 2. Sementara kolom lainnya tidak memiliki missing value."
      ],
      "metadata": {
        "id": "KkTwNSnkpuZi"
      }
    },
    {
      "cell_type": "markdown",
      "source": [
        "## 2b."
      ],
      "metadata": {
        "id": "Idsz2pwTf_mU"
      }
    },
    {
      "cell_type": "code",
      "source": [
        "# Mengisi missing value pada kolom 'Age' dengan median\n",
        "df['Age'].fillna(df['Age'].median(), inplace=True)\n",
        "\n",
        "# Mengisi missing value pada kolom 'Embarked' dengan modus\n",
        "df['Embarked'].fillna(df['Embarked'].mode()[0], inplace=True)\n",
        "\n",
        "# Menghapus kolom 'Cabin' karena terlalu banyak kosong\n",
        "df.drop(columns='Cabin', inplace=True)\n",
        "\n",
        "# Periksa kembali missing value\n",
        "print(\"\\nSetelah penanganan, missing value:\\n\", df.isnull().sum())\n"
      ],
      "metadata": {
        "colab": {
          "base_uri": "https://localhost:8080/"
        },
        "id": "DPP2wD-vgCR4",
        "outputId": "b490c19c-d45d-4f79-c7ec-53f438cb0960"
      },
      "execution_count": null,
      "outputs": [
        {
          "output_type": "stream",
          "name": "stdout",
          "text": [
            "\n",
            "Setelah penanganan, missing value:\n",
            " PassengerId    0\n",
            "Survived       0\n",
            "Pclass         0\n",
            "Name           0\n",
            "Sex            0\n",
            "Age            0\n",
            "SibSp          0\n",
            "Parch          0\n",
            "Ticket         0\n",
            "Fare           0\n",
            "Embarked       0\n",
            "dtype: int64\n"
          ]
        },
        {
          "output_type": "stream",
          "name": "stderr",
          "text": [
            "<ipython-input-8-98d65ffcff4a>:2: FutureWarning: A value is trying to be set on a copy of a DataFrame or Series through chained assignment using an inplace method.\n",
            "The behavior will change in pandas 3.0. This inplace method will never work because the intermediate object on which we are setting values always behaves as a copy.\n",
            "\n",
            "For example, when doing 'df[col].method(value, inplace=True)', try using 'df.method({col: value}, inplace=True)' or df[col] = df[col].method(value) instead, to perform the operation inplace on the original object.\n",
            "\n",
            "\n",
            "  df['Age'].fillna(df['Age'].median(), inplace=True)\n",
            "<ipython-input-8-98d65ffcff4a>:5: FutureWarning: A value is trying to be set on a copy of a DataFrame or Series through chained assignment using an inplace method.\n",
            "The behavior will change in pandas 3.0. This inplace method will never work because the intermediate object on which we are setting values always behaves as a copy.\n",
            "\n",
            "For example, when doing 'df[col].method(value, inplace=True)', try using 'df.method({col: value}, inplace=True)' or df[col] = df[col].method(value) instead, to perform the operation inplace on the original object.\n",
            "\n",
            "\n",
            "  df['Embarked'].fillna(df['Embarked'].mode()[0], inplace=True)\n"
          ]
        }
      ]
    },
    {
      "cell_type": "markdown",
      "source": [
        "Iya, kalau ada data yang kosong, saya akan menangani sesuai jenis kolomnya. Misalnya, kolom Age yang kosong bisa saya isi dengan rata-rata umur penumpang. Kolom Embarked cuma ada 2 yang kosong, jadi bisa diisi pakai data yang paling sering muncul. Tapi untuk Cabin, karena yang kosong lebih dari setengah, lebih baik kolom itu dihapus saja karena terlalu banyak datanya yang hilang.\n"
      ],
      "metadata": {
        "id": "thTPZPsxqDJY"
      }
    },
    {
      "cell_type": "markdown",
      "source": [
        "## 2c."
      ],
      "metadata": {
        "id": "TVqdHvSSgHie"
      }
    },
    {
      "cell_type": "code",
      "source": [
        "# Hitung IQR untuk kolom 'Age'\n",
        "Q1 = df['Age'].quantile(0.25)\n",
        "Q3 = df['Age'].quantile(0.75)\n",
        "IQR = Q3 - Q1\n",
        "\n",
        "# Tentukan batas bawah dan atas\n",
        "batas_bawah = Q1 - 1.5 * IQR\n",
        "batas_atas = Q3 + 1.5 * IQR\n",
        "\n",
        "# Cari data yang merupakan outlier\n",
        "outliers = df[(df['Age'] < batas_bawah) | (df['Age'] > batas_atas)]\n",
        "\n",
        "# Tampilkan informasi\n",
        "print(\"Rentang normal umur penumpang:\", round(batas_bawah, 2), \"-\", round(batas_atas, 2))\n",
        "print(\"Jumlah outlier umur:\", outliers.shape[0])\n",
        "print(\"Contoh data outlier:\\n\", outliers[['Name', 'Age']].head())\n"
      ],
      "metadata": {
        "colab": {
          "base_uri": "https://localhost:8080/"
        },
        "id": "VMPjkJQRgciZ",
        "outputId": "cb4459a4-e723-49f2-981d-c72aeaca0ce6"
      },
      "execution_count": null,
      "outputs": [
        {
          "output_type": "stream",
          "name": "stdout",
          "text": [
            "Rentang normal umur penumpang: 2.5 - 54.5\n",
            "Jumlah outlier umur: 66\n",
            "Contoh data outlier:\n",
            "                                 Name   Age\n",
            "7     Palsson, Master. Gosta Leonard   2.0\n",
            "11          Bonnell, Miss. Elizabeth  58.0\n",
            "15  Hewlett, Mrs. (Mary D Kingcome)   55.0\n",
            "16              Rice, Master. Eugene   2.0\n",
            "33             Wheadon, Mr. Edward H  66.0\n"
          ]
        }
      ]
    },
    {
      "cell_type": "markdown",
      "source": [
        "Dari hasil tersebut ada outlier, umur penumpang yang dianggap normal ada di rentang 2.5 sampai 54.5 tahun. Tapi ternyata ada 66 orang yang usianya di luar rentang itu, jadi mereka termasuk outlier. Contohnya ada yang umurnya 2 tahun, ada juga yang 66 tahun.\n",
        "\n",
        "Outlier adalah data yang nilainya jauh berbeda dari mayoritas data lainnya. Nilai ini bisa muncul karena kesalahan, kondisi khusus, atau variasi ekstrem, dan sering kali memengaruhi hasil analisis jika tidak ditangani.\n",
        "\n",
        "\n",
        "\n",
        "\n",
        "\n",
        "\n",
        "\n",
        "\n"
      ],
      "metadata": {
        "id": "_qimiBjrklzD"
      }
    },
    {
      "cell_type": "markdown",
      "source": [
        "## 2d."
      ],
      "metadata": {
        "id": "eeRrJHWzmRiB"
      }
    },
    {
      "cell_type": "markdown",
      "source": [
        "Menurut saya, outlier pada data Titanic sebenarnya bisa diatasi, tapi tidak harus dihapus karena sebagian besar masih masuk akal. Contohnya, penumpang yang berusia 2 tahun atau 66 tahun memang benar-benar ada, jadi bukan kesalahan data. Kalau diperlukan, outlier bisa ditangani dengan teknik seperti transformasi log atau scaling supaya distribusinya lebih seimbang. Tapi kalau model yang digunakan tidak sensitif terhadap outlier, data bisa dibiarkan tetap seperti aslinya"
      ],
      "metadata": {
        "id": "ZX8Hge48mUyw"
      }
    },
    {
      "cell_type": "markdown",
      "source": [
        "## 2e."
      ],
      "metadata": {
        "id": "VhTOJPKpnZ__"
      }
    },
    {
      "cell_type": "markdown",
      "source": [
        "menurut saya outliernya tidak perlu diatasi, tapi saya ingin mencoba coba jika dilakukan scalling terhadap data"
      ],
      "metadata": {
        "id": "PuZGGFS1ncs2"
      }
    },
    {
      "cell_type": "code",
      "source": [
        "from sklearn.preprocessing import MinMaxScaler\n",
        "\n",
        "scaler = MinMaxScaler()\n",
        "cols_to_scale = ['Age', 'Fare']\n",
        "df_scaled = df.copy()\n",
        "df_scaled[cols_to_scale] = scaler.fit_transform(df[cols_to_scale])\n",
        "df_scaled[cols_to_scale].describe()"
      ],
      "metadata": {
        "colab": {
          "base_uri": "https://localhost:8080/",
          "height": 300
        },
        "id": "3lpsFvLvnVTw",
        "outputId": "6a0e6f91-4407-43fd-c44e-df3fb48e66ed"
      },
      "execution_count": 16,
      "outputs": [
        {
          "output_type": "execute_result",
          "data": {
            "text/plain": [
              "              Age        Fare\n",
              "count  891.000000  891.000000\n",
              "mean     0.363679    0.062858\n",
              "std      0.163605    0.096995\n",
              "min      0.000000    0.000000\n",
              "25%      0.271174    0.015440\n",
              "50%      0.346569    0.028213\n",
              "75%      0.434531    0.060508\n",
              "max      1.000000    1.000000"
            ],
            "text/html": [
              "\n",
              "  <div id=\"df-5cb1de0e-425a-4dc4-b62f-d766b1d6ef82\" class=\"colab-df-container\">\n",
              "    <div>\n",
              "<style scoped>\n",
              "    .dataframe tbody tr th:only-of-type {\n",
              "        vertical-align: middle;\n",
              "    }\n",
              "\n",
              "    .dataframe tbody tr th {\n",
              "        vertical-align: top;\n",
              "    }\n",
              "\n",
              "    .dataframe thead th {\n",
              "        text-align: right;\n",
              "    }\n",
              "</style>\n",
              "<table border=\"1\" class=\"dataframe\">\n",
              "  <thead>\n",
              "    <tr style=\"text-align: right;\">\n",
              "      <th></th>\n",
              "      <th>Age</th>\n",
              "      <th>Fare</th>\n",
              "    </tr>\n",
              "  </thead>\n",
              "  <tbody>\n",
              "    <tr>\n",
              "      <th>count</th>\n",
              "      <td>891.000000</td>\n",
              "      <td>891.000000</td>\n",
              "    </tr>\n",
              "    <tr>\n",
              "      <th>mean</th>\n",
              "      <td>0.363679</td>\n",
              "      <td>0.062858</td>\n",
              "    </tr>\n",
              "    <tr>\n",
              "      <th>std</th>\n",
              "      <td>0.163605</td>\n",
              "      <td>0.096995</td>\n",
              "    </tr>\n",
              "    <tr>\n",
              "      <th>min</th>\n",
              "      <td>0.000000</td>\n",
              "      <td>0.000000</td>\n",
              "    </tr>\n",
              "    <tr>\n",
              "      <th>25%</th>\n",
              "      <td>0.271174</td>\n",
              "      <td>0.015440</td>\n",
              "    </tr>\n",
              "    <tr>\n",
              "      <th>50%</th>\n",
              "      <td>0.346569</td>\n",
              "      <td>0.028213</td>\n",
              "    </tr>\n",
              "    <tr>\n",
              "      <th>75%</th>\n",
              "      <td>0.434531</td>\n",
              "      <td>0.060508</td>\n",
              "    </tr>\n",
              "    <tr>\n",
              "      <th>max</th>\n",
              "      <td>1.000000</td>\n",
              "      <td>1.000000</td>\n",
              "    </tr>\n",
              "  </tbody>\n",
              "</table>\n",
              "</div>\n",
              "    <div class=\"colab-df-buttons\">\n",
              "\n",
              "  <div class=\"colab-df-container\">\n",
              "    <button class=\"colab-df-convert\" onclick=\"convertToInteractive('df-5cb1de0e-425a-4dc4-b62f-d766b1d6ef82')\"\n",
              "            title=\"Convert this dataframe to an interactive table.\"\n",
              "            style=\"display:none;\">\n",
              "\n",
              "  <svg xmlns=\"http://www.w3.org/2000/svg\" height=\"24px\" viewBox=\"0 -960 960 960\">\n",
              "    <path d=\"M120-120v-720h720v720H120Zm60-500h600v-160H180v160Zm220 220h160v-160H400v160Zm0 220h160v-160H400v160ZM180-400h160v-160H180v160Zm440 0h160v-160H620v160ZM180-180h160v-160H180v160Zm440 0h160v-160H620v160Z\"/>\n",
              "  </svg>\n",
              "    </button>\n",
              "\n",
              "  <style>\n",
              "    .colab-df-container {\n",
              "      display:flex;\n",
              "      gap: 12px;\n",
              "    }\n",
              "\n",
              "    .colab-df-convert {\n",
              "      background-color: #E8F0FE;\n",
              "      border: none;\n",
              "      border-radius: 50%;\n",
              "      cursor: pointer;\n",
              "      display: none;\n",
              "      fill: #1967D2;\n",
              "      height: 32px;\n",
              "      padding: 0 0 0 0;\n",
              "      width: 32px;\n",
              "    }\n",
              "\n",
              "    .colab-df-convert:hover {\n",
              "      background-color: #E2EBFA;\n",
              "      box-shadow: 0px 1px 2px rgba(60, 64, 67, 0.3), 0px 1px 3px 1px rgba(60, 64, 67, 0.15);\n",
              "      fill: #174EA6;\n",
              "    }\n",
              "\n",
              "    .colab-df-buttons div {\n",
              "      margin-bottom: 4px;\n",
              "    }\n",
              "\n",
              "    [theme=dark] .colab-df-convert {\n",
              "      background-color: #3B4455;\n",
              "      fill: #D2E3FC;\n",
              "    }\n",
              "\n",
              "    [theme=dark] .colab-df-convert:hover {\n",
              "      background-color: #434B5C;\n",
              "      box-shadow: 0px 1px 3px 1px rgba(0, 0, 0, 0.15);\n",
              "      filter: drop-shadow(0px 1px 2px rgba(0, 0, 0, 0.3));\n",
              "      fill: #FFFFFF;\n",
              "    }\n",
              "  </style>\n",
              "\n",
              "    <script>\n",
              "      const buttonEl =\n",
              "        document.querySelector('#df-5cb1de0e-425a-4dc4-b62f-d766b1d6ef82 button.colab-df-convert');\n",
              "      buttonEl.style.display =\n",
              "        google.colab.kernel.accessAllowed ? 'block' : 'none';\n",
              "\n",
              "      async function convertToInteractive(key) {\n",
              "        const element = document.querySelector('#df-5cb1de0e-425a-4dc4-b62f-d766b1d6ef82');\n",
              "        const dataTable =\n",
              "          await google.colab.kernel.invokeFunction('convertToInteractive',\n",
              "                                                    [key], {});\n",
              "        if (!dataTable) return;\n",
              "\n",
              "        const docLinkHtml = 'Like what you see? Visit the ' +\n",
              "          '<a target=\"_blank\" href=https://colab.research.google.com/notebooks/data_table.ipynb>data table notebook</a>'\n",
              "          + ' to learn more about interactive tables.';\n",
              "        element.innerHTML = '';\n",
              "        dataTable['output_type'] = 'display_data';\n",
              "        await google.colab.output.renderOutput(dataTable, element);\n",
              "        const docLink = document.createElement('div');\n",
              "        docLink.innerHTML = docLinkHtml;\n",
              "        element.appendChild(docLink);\n",
              "      }\n",
              "    </script>\n",
              "  </div>\n",
              "\n",
              "\n",
              "<div id=\"df-ce28f907-f857-4b40-a378-5ebea5bb6d46\">\n",
              "  <button class=\"colab-df-quickchart\" onclick=\"quickchart('df-ce28f907-f857-4b40-a378-5ebea5bb6d46')\"\n",
              "            title=\"Suggest charts\"\n",
              "            style=\"display:none;\">\n",
              "\n",
              "<svg xmlns=\"http://www.w3.org/2000/svg\" height=\"24px\"viewBox=\"0 0 24 24\"\n",
              "     width=\"24px\">\n",
              "    <g>\n",
              "        <path d=\"M19 3H5c-1.1 0-2 .9-2 2v14c0 1.1.9 2 2 2h14c1.1 0 2-.9 2-2V5c0-1.1-.9-2-2-2zM9 17H7v-7h2v7zm4 0h-2V7h2v10zm4 0h-2v-4h2v4z\"/>\n",
              "    </g>\n",
              "</svg>\n",
              "  </button>\n",
              "\n",
              "<style>\n",
              "  .colab-df-quickchart {\n",
              "      --bg-color: #E8F0FE;\n",
              "      --fill-color: #1967D2;\n",
              "      --hover-bg-color: #E2EBFA;\n",
              "      --hover-fill-color: #174EA6;\n",
              "      --disabled-fill-color: #AAA;\n",
              "      --disabled-bg-color: #DDD;\n",
              "  }\n",
              "\n",
              "  [theme=dark] .colab-df-quickchart {\n",
              "      --bg-color: #3B4455;\n",
              "      --fill-color: #D2E3FC;\n",
              "      --hover-bg-color: #434B5C;\n",
              "      --hover-fill-color: #FFFFFF;\n",
              "      --disabled-bg-color: #3B4455;\n",
              "      --disabled-fill-color: #666;\n",
              "  }\n",
              "\n",
              "  .colab-df-quickchart {\n",
              "    background-color: var(--bg-color);\n",
              "    border: none;\n",
              "    border-radius: 50%;\n",
              "    cursor: pointer;\n",
              "    display: none;\n",
              "    fill: var(--fill-color);\n",
              "    height: 32px;\n",
              "    padding: 0;\n",
              "    width: 32px;\n",
              "  }\n",
              "\n",
              "  .colab-df-quickchart:hover {\n",
              "    background-color: var(--hover-bg-color);\n",
              "    box-shadow: 0 1px 2px rgba(60, 64, 67, 0.3), 0 1px 3px 1px rgba(60, 64, 67, 0.15);\n",
              "    fill: var(--button-hover-fill-color);\n",
              "  }\n",
              "\n",
              "  .colab-df-quickchart-complete:disabled,\n",
              "  .colab-df-quickchart-complete:disabled:hover {\n",
              "    background-color: var(--disabled-bg-color);\n",
              "    fill: var(--disabled-fill-color);\n",
              "    box-shadow: none;\n",
              "  }\n",
              "\n",
              "  .colab-df-spinner {\n",
              "    border: 2px solid var(--fill-color);\n",
              "    border-color: transparent;\n",
              "    border-bottom-color: var(--fill-color);\n",
              "    animation:\n",
              "      spin 1s steps(1) infinite;\n",
              "  }\n",
              "\n",
              "  @keyframes spin {\n",
              "    0% {\n",
              "      border-color: transparent;\n",
              "      border-bottom-color: var(--fill-color);\n",
              "      border-left-color: var(--fill-color);\n",
              "    }\n",
              "    20% {\n",
              "      border-color: transparent;\n",
              "      border-left-color: var(--fill-color);\n",
              "      border-top-color: var(--fill-color);\n",
              "    }\n",
              "    30% {\n",
              "      border-color: transparent;\n",
              "      border-left-color: var(--fill-color);\n",
              "      border-top-color: var(--fill-color);\n",
              "      border-right-color: var(--fill-color);\n",
              "    }\n",
              "    40% {\n",
              "      border-color: transparent;\n",
              "      border-right-color: var(--fill-color);\n",
              "      border-top-color: var(--fill-color);\n",
              "    }\n",
              "    60% {\n",
              "      border-color: transparent;\n",
              "      border-right-color: var(--fill-color);\n",
              "    }\n",
              "    80% {\n",
              "      border-color: transparent;\n",
              "      border-right-color: var(--fill-color);\n",
              "      border-bottom-color: var(--fill-color);\n",
              "    }\n",
              "    90% {\n",
              "      border-color: transparent;\n",
              "      border-bottom-color: var(--fill-color);\n",
              "    }\n",
              "  }\n",
              "</style>\n",
              "\n",
              "  <script>\n",
              "    async function quickchart(key) {\n",
              "      const quickchartButtonEl =\n",
              "        document.querySelector('#' + key + ' button');\n",
              "      quickchartButtonEl.disabled = true;  // To prevent multiple clicks.\n",
              "      quickchartButtonEl.classList.add('colab-df-spinner');\n",
              "      try {\n",
              "        const charts = await google.colab.kernel.invokeFunction(\n",
              "            'suggestCharts', [key], {});\n",
              "      } catch (error) {\n",
              "        console.error('Error during call to suggestCharts:', error);\n",
              "      }\n",
              "      quickchartButtonEl.classList.remove('colab-df-spinner');\n",
              "      quickchartButtonEl.classList.add('colab-df-quickchart-complete');\n",
              "    }\n",
              "    (() => {\n",
              "      let quickchartButtonEl =\n",
              "        document.querySelector('#df-ce28f907-f857-4b40-a378-5ebea5bb6d46 button');\n",
              "      quickchartButtonEl.style.display =\n",
              "        google.colab.kernel.accessAllowed ? 'block' : 'none';\n",
              "    })();\n",
              "  </script>\n",
              "</div>\n",
              "\n",
              "    </div>\n",
              "  </div>\n"
            ],
            "application/vnd.google.colaboratory.intrinsic+json": {
              "type": "dataframe",
              "summary": "{\n  \"name\": \"df_scaled[cols_to_scale]\",\n  \"rows\": 8,\n  \"fields\": [\n    {\n      \"column\": \"Age\",\n      \"properties\": {\n        \"dtype\": \"number\",\n        \"std\": 314.8859176710529,\n        \"min\": 0.0,\n        \"max\": 891.0,\n        \"num_unique_values\": 8,\n        \"samples\": [\n          0.36367909640088575,\n          0.34656948982156316,\n          891.0\n        ],\n        \"semantic_type\": \"\",\n        \"description\": \"\"\n      }\n    },\n    {\n      \"column\": \"Fare\",\n      \"properties\": {\n        \"dtype\": \"number\",\n        \"std\": 314.9524077771395,\n        \"min\": 0.0,\n        \"max\": 891.0,\n        \"num_unique_values\": 8,\n        \"samples\": [\n          0.06285842768394742,\n          0.028212719478023115,\n          891.0\n        ],\n        \"semantic_type\": \"\",\n        \"description\": \"\"\n      }\n    }\n  ]\n}"
            }
          },
          "metadata": {},
          "execution_count": 16
        }
      ]
    },
    {
      "cell_type": "markdown",
      "source": [
        "# 3."
      ],
      "metadata": {
        "id": "9Crn8NgAqRqG"
      }
    },
    {
      "cell_type": "markdown",
      "source": [
        "## 3a."
      ],
      "metadata": {
        "id": "IYSccJK9qfF0"
      }
    },
    {
      "cell_type": "markdown",
      "source": [
        "Data perlu dibagi menjadi data training dan testing agar model bisa dilatih terlebih dahulu, lalu diuji kemampuannya memprediksi data baru. Data training digunakan untuk membangun model, sedangkan data testing digunakan untuk mengukur seberapa baik model tersebut bekerja pada data yang belum pernah dilihat sebelumnya. Ini penting supaya hasil prediksi lebih akurat dan tidak hanya bagus di data latihan saja.\n",
        "\n"
      ],
      "metadata": {
        "id": "WWABwiOFr4td"
      }
    },
    {
      "cell_type": "markdown",
      "source": [
        "## 3b."
      ],
      "metadata": {
        "id": "MEJljsmTr7KC"
      }
    },
    {
      "cell_type": "markdown",
      "source": [
        "Umumnya data dibagi dengan proporsi 80% untuk training dan 20% untuk testing. Proporsi ini cukup seimbang karena model punya cukup banyak data untuk belajar, tapi masih menyisakan cukup data untuk evaluasi. Pembagian ini sering digunakan karena memberikan hasil yang stabil dan tidak membuat model overfitting atau underfitting."
      ],
      "metadata": {
        "id": "A2duJB61r_Qn"
      }
    },
    {
      "cell_type": "markdown",
      "source": [
        "# 3c."
      ],
      "metadata": {
        "id": "0c6phObNsJpB"
      }
    },
    {
      "cell_type": "markdown",
      "source": [
        "### Logistic Regression"
      ],
      "metadata": {
        "id": "lLEkoEX5sPrJ"
      }
    },
    {
      "cell_type": "code",
      "source": [
        "from sklearn.linear_model import LogisticRegression\n",
        "from sklearn.metrics import classification_report, accuracy_score\n",
        "\n",
        "logreg = LogisticRegression()\n",
        "logreg.fit(X_train, y_train)\n",
        "y_pred_logreg = logreg.predict(X_test)\n",
        "\n",
        "print(\"Logistic Regression Report:\")\n",
        "print(classification_report(y_test, y_pred_logreg))\n"
      ],
      "metadata": {
        "colab": {
          "base_uri": "https://localhost:8080/"
        },
        "id": "XLqTVWp3skhU",
        "outputId": "f81007dd-2b84-4964-8fa5-c315dd981db5"
      },
      "execution_count": 18,
      "outputs": [
        {
          "output_type": "stream",
          "name": "stdout",
          "text": [
            "Logistic Regression Report:\n",
            "              precision    recall  f1-score   support\n",
            "\n",
            "           0       0.82      0.86      0.84       105\n",
            "           1       0.78      0.73      0.76        74\n",
            "\n",
            "    accuracy                           0.80       179\n",
            "   macro avg       0.80      0.79      0.80       179\n",
            "weighted avg       0.80      0.80      0.80       179\n",
            "\n"
          ]
        }
      ]
    },
    {
      "cell_type": "markdown",
      "source": [
        "Logistic Regression adalah model klasifikasi yang digunakan untuk memprediksi probabilitas suatu data masuk ke dalam kelas tertentu, misalnya selamat (1) atau tidak selamat (0). Model ini bekerja dengan menghitung nilai probabilitas menggunakan fungsi logistik (sigmoid), lalu mengklasifikasikannya berdasarkan ambang batas tertentu (biasanya 0.5)."
      ],
      "metadata": {
        "id": "YV2qCRopuTj6"
      }
    },
    {
      "cell_type": "markdown",
      "source": [
        "### Decision Tree"
      ],
      "metadata": {
        "id": "RzmLIVOCtUes"
      }
    },
    {
      "cell_type": "code",
      "source": [
        "from sklearn.tree import DecisionTreeClassifier\n",
        "\n",
        "tree = DecisionTreeClassifier()\n",
        "tree.fit(X_train, y_train)\n",
        "y_pred_tree = tree.predict(X_test)\n",
        "\n",
        "print(\"Decision Tree Report:\")\n",
        "print(classification_report(y_test, y_pred_tree))\n"
      ],
      "metadata": {
        "colab": {
          "base_uri": "https://localhost:8080/"
        },
        "id": "gN5oAuZitfIB",
        "outputId": "c31f47ac-ae0d-48d5-a598-1482e1fc7296"
      },
      "execution_count": 19,
      "outputs": [
        {
          "output_type": "stream",
          "name": "stdout",
          "text": [
            "Decision Tree Report:\n",
            "              precision    recall  f1-score   support\n",
            "\n",
            "           0       0.79      0.75      0.77       105\n",
            "           1       0.67      0.72      0.69        74\n",
            "\n",
            "    accuracy                           0.74       179\n",
            "   macro avg       0.73      0.73      0.73       179\n",
            "weighted avg       0.74      0.74      0.74       179\n",
            "\n"
          ]
        }
      ]
    },
    {
      "cell_type": "markdown",
      "source": [
        "Decision Tree adalah model yang bekerja seperti pohon keputusan, di mana setiap cabang merepresentasikan kondisi dari fitur tertentu (seperti umur, kelas, dll). Model ini memecah data berdasarkan fitur yang paling memisahkan kelas, hingga mencapai keputusan akhir berupa prediksi kelas."
      ],
      "metadata": {
        "id": "mSG51d6cudBL"
      }
    },
    {
      "cell_type": "markdown",
      "source": [
        "### Random Forest"
      ],
      "metadata": {
        "id": "vkR4K8ehtn1P"
      }
    },
    {
      "cell_type": "code",
      "source": [
        "from sklearn.ensemble import RandomForestClassifier\n",
        "\n",
        "forest = RandomForestClassifier()\n",
        "forest.fit(X_train, y_train)\n",
        "y_pred_forest = forest.predict(X_test)\n",
        "\n",
        "print(\"Random Forest Report:\")\n",
        "print(classification_report(y_test, y_pred_forest))\n"
      ],
      "metadata": {
        "colab": {
          "base_uri": "https://localhost:8080/"
        },
        "id": "h1nPYxxVt3qV",
        "outputId": "1e19148b-9abf-43d0-fe26-8cc3f9b492c3"
      },
      "execution_count": 20,
      "outputs": [
        {
          "output_type": "stream",
          "name": "stdout",
          "text": [
            "Random Forest Report:\n",
            "              precision    recall  f1-score   support\n",
            "\n",
            "           0       0.82      0.83      0.82       105\n",
            "           1       0.75      0.74      0.75        74\n",
            "\n",
            "    accuracy                           0.79       179\n",
            "   macro avg       0.79      0.79      0.79       179\n",
            "weighted avg       0.79      0.79      0.79       179\n",
            "\n"
          ]
        }
      ]
    },
    {
      "cell_type": "markdown",
      "source": [
        "Random Forest adalah model ensemble yang terdiri dari banyak Decision Tree. Setiap pohon dilatih dengan subset data dan fitur yang berbeda. Hasil akhir diperoleh dari voting mayoritas dari semua pohon. Model ini lebih akurat dan tahan terhadap overfitting dibanding satu pohon saja."
      ],
      "metadata": {
        "id": "atxCwe7Yufs6"
      }
    },
    {
      "cell_type": "markdown",
      "source": [
        "# 3d."
      ],
      "metadata": {
        "id": "le7-nk8IvGeO"
      }
    },
    {
      "cell_type": "markdown",
      "source": [
        "## Logistic Regression"
      ],
      "metadata": {
        "id": "vME0TlBWvhvC"
      }
    },
    {
      "cell_type": "markdown",
      "source": [
        "Berdasarkan hasil evaluasi terhadap model Logistic Regression, diperoleh akurasi sebesar 80%, yang berarti model mampu memprediksi dengan benar 80% dari total data uji. Untuk penumpang yang selamat (kelas 1), nilai precision-nya 0.78, artinya dari semua penumpang yang diprediksi selamat, 78% benar-benar selamat. Nilai recall-nya 0.73, menunjukkan bahwa model berhasil mengenali 73% dari seluruh penumpang yang benar-benar selamat. Sedangkan f1-score-nya 0.76, yang merupakan gabungan dari precision dan recall, menandakan bahwa model cukup seimbang dan stabil dalam melakukan prediksi. Secara keseluruhan, Logistic Regression sudah menunjukkan kinerja yang cukup baik untuk memprediksi siapa yang selamat dalam data Titanic."
      ],
      "metadata": {
        "id": "UEVAaAWSv-8A"
      }
    },
    {
      "cell_type": "markdown",
      "source": [
        "## Decision Tree"
      ],
      "metadata": {
        "id": "wSqo_TC8wFbY"
      }
    },
    {
      "cell_type": "markdown",
      "source": [
        "Berdasarkan hasil evaluasi terhadap model Decision Tree, diperoleh akurasi sebesar 74%, yang berarti model mampu memprediksi dengan benar 74% dari data uji. Untuk penumpang yang selamat (kelas 1), precision-nya sebesar 0.67, artinya dari seluruh penumpang yang diprediksi selamat, hanya 67% yang benar-benar selamat. Sementara nilai recall-nya 0.72, menunjukkan bahwa model mampu menangkap sekitar 72% dari semua penumpang yang benar-benar selamat. F1-score untuk kelas selamat adalah 0.69, yang menunjukkan bahwa performa model masih seimbang, meskipun sedikit lebih rendah dibanding Logistic Regression."
      ],
      "metadata": {
        "id": "suxmYd-ux41a"
      }
    },
    {
      "cell_type": "markdown",
      "source": [
        "## Random Forest"
      ],
      "metadata": {
        "id": "IX1-os4cyGzX"
      }
    },
    {
      "cell_type": "markdown",
      "source": [
        "Berdasarkan hasil evaluasi terhadap model Random Forest, diperoleh akurasi sebesar 79%, yang berarti model dapat memprediksi data uji dengan benar sebanyak 79%. Untuk penumpang yang selamat (kelas 1), nilai precision sebesar 0.75, yang artinya dari semua penumpang yang diprediksi selamat, 75% di antaranya benar-benar selamat. Nilai recall-nya sebesar 0.74, menunjukkan bahwa model berhasil menangkap sekitar 74% dari seluruh penumpang yang benar-benar selamat. Sementara itu, f1-score-nya sebesar 0.75, menandakan bahwa model memiliki keseimbangan yang cukup baik antara precision dan recall. Secara keseluruhan, Random Forest menunjukkan performa yang stabil dan hampir setara dengan Logistic Regression, meskipun akurasinya sedikit lebih rendah."
      ],
      "metadata": {
        "id": "oqGu4bF6yGoW"
      }
    },
    {
      "cell_type": "markdown",
      "source": [
        "# 3e."
      ],
      "metadata": {
        "id": "4ZznF-AFyrVv"
      }
    },
    {
      "cell_type": "markdown",
      "source": [
        "Dari ketiga model yang diuji, Logistic Regression memberi hasil terbaik dengan akurasi 80% dan f1-score 0.76. Model ini lebih seimbang dan stabil dalam memprediksi penumpang yang selamat. Random Forest juga bagus, tapi sedikit di bawah Logistic Regression. Decision Tree paling rendah akurasinya. Logistic Regression cocok karena data Titanic cukup sederhana dan pola hubungan antar fitur cukup jelas, jadi model ini bisa menangkapnya dengan baik tanpa overfitting."
      ],
      "metadata": {
        "id": "UPx-i8NfyxOh"
      }
    }
  ]
}